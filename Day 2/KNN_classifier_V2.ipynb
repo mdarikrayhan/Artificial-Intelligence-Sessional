{
  "cells": [
    {
      "cell_type": "markdown",
      "metadata": {
        "id": "LlTfZrTT_XGo"
      },
      "source": [
        "**Lab Manual: K-Nearest Neighbors (KNN) Classifier Implementation**\n",
        "\n",
        "**Objective:** Implement a K-Nearest Neighbors (KNN) classifier from scratch using Python and understand its working.\n",
        "\n",
        "**Prerequisites:**\n",
        "- Basic understanding of Python programming.\n",
        "- Familiarity with basic machine learning concepts."
      ]
    },
    {
      "cell_type": "markdown",
      "metadata": {
        "id": "_nEoRQNd_gUA"
      },
      "source": [
        "**Introduction:**\n",
        "\n",
        "\n",
        "The k-Nearest Neighbors (K-NN) algorithm is a simple yet effective machine learning method used for classification and regression tasks. In this lab, we will dive into the implementation of the K-NN classifier. By the end of this lab, you'll have a clear understanding of how KNN works and how to implement it from scratch using Python."
      ]
    },
    {
      "cell_type": "markdown",
      "metadata": {
        "id": "r8aHDD6z_j1F"
      },
      "source": [
        "**Lab Steps:**\n",
        "\n",
        "1. **Setting Up the Environment:**\n",
        "   - Open your Python environment (Jupyter Notebook, Google Colab, etc.).\n",
        "   - Import the required libraries: NumPy for numerical computations and Matplotlib for visualization."
      ]
    },
    {
      "cell_type": "code",
      "execution_count": 3,
      "metadata": {
        "id": "TcUHBLqN_mLI"
      },
      "outputs": [],
      "source": [
        "import numpy as np\n",
        "import matplotlib.pyplot as plt\n",
        "# Import necessary libraries\n",
        "from sklearn.datasets import load_iris\n",
        "from sklearn.model_selection import train_test_split\n",
        "from sklearn.neighbors import KNeighborsClassifier\n",
        "from sklearn.metrics import accuracy_score"
      ]
    },
    {
      "cell_type": "markdown",
      "metadata": {
        "id": "7zAhwybG_p7J"
      },
      "source": [
        "2. **Generating Synthetic Data:**\n",
        "   To begin, generate synthetic data with two classes for classification."
      ]
    },
    {
      "cell_type": "code",
      "execution_count": 4,
      "metadata": {
        "id": "u-CNRZXLEvwv"
      },
      "outputs": [],
      "source": [
        "# Load the Iris dataset\n",
        "iris = load_iris()\n",
        "X = iris.data #(150 rows, 4 features)\n",
        "y = iris.target #(3 clas s)\n",
        "\n",
        "# Split the data into training and testing sets\n",
        "X_train, X_test, y_train, y_test = train_test_split(X, y, test_size=0.2, random_state=42)"
      ]
    },
    {
      "cell_type": "markdown",
      "metadata": {
        "id": "pr44Kqi0_vUR"
      },
      "source": [
        "3. **Implementing the kNN Classifier:**\n",
        "   Create a class named `KNNClassifier` to implement the kNN algorithm."
      ]
    },
    {
      "cell_type": "code",
      "execution_count": 5,
      "metadata": {
        "id": "xZTRmDmi_yMm"
      },
      "outputs": [],
      "source": [
        "class KNNClassifier:\n",
        "    def __init__(self, k=3):\n",
        "        self.k = k\n",
        "\n",
        "    def fit(self, X_train, y_train):\n",
        "        self.X_train = X_train\n",
        "        self.y_train = y_train\n",
        "\n",
        "    def predict(self, X_test):\n",
        "        distances = np.sqrt(np.sum((X_test[:, np.newaxis] - self.X_train)**2, axis=2))\n",
        "        nearest_indices = np.argsort(distances, axis=1)[:, :self.k]\n",
        "        nearest_labels = self.y_train[nearest_indices]\n",
        "        # predicted_labels = np.apply_along_axis(lambda x: np.bincount(x).argmax(), axis=1, arr=nearest_labels)\n",
        "        # predicted_labels = np.apply_along_axis(np.bincount, axis=1, arr=nearest_labels).argmax(axis=1)\n",
        "        predicted_labels = np.zeros(nearest_labels.shape[0], dtype=int)\n",
        "        for i in range(nearest_labels.shape[0]):\n",
        "            unique, counts = np.unique(nearest_labels[i], return_counts=True)\n",
        "            predicted_labels[i] = unique[np.argmax(counts)]\n",
        "\n",
        "        return predicted_labels"
      ]
    },
    {
      "cell_type": "markdown",
      "metadata": {
        "id": "MnELrWDRAB4V"
      },
      "source": [
        "4. **Understanding the kNN Algorithm:**\n",
        "   kNN works by finding the k nearest data points to a given input and classifying based on majority votes.\n"
      ]
    },
    {
      "cell_type": "markdown",
      "metadata": {
        "id": "Np3-v2i6AGK3"
      },
      "source": [
        "5. **Training and Testing:**\n",
        "   Instantiate the `KNNClassifier`, fit it with the training data, and test it using new data."
      ]
    },
    {
      "cell_type": "code",
      "execution_count": 6,
      "metadata": {
        "colab": {
          "base_uri": "https://localhost:8080/"
        },
        "id": "vRSZ88GHAH5n",
        "outputId": "2769cd6c-1763-44f4-ebd8-b9686171901f"
      },
      "outputs": [
        {
          "name": "stdout",
          "output_type": "stream",
          "text": [
            "[1 0 2 1 1 0 1 2 1 1 2 0 0 0 0 1 2 1 1 2 0 2 0 2 2 2 2 2 0 0]\n",
            "Accuracy: 100.00%\n"
          ]
        }
      ],
      "source": [
        "model = KNNClassifier(k=5)\n",
        "model.fit(X_train, y_train)\n",
        "\n",
        "# new_samples = 20\n",
        "# new_data = np.random.randn(new_samples, 2) + [3.5, 3.5]\n",
        "predictions = model.predict(X_test)\n",
        "print(predictions)\n",
        "\n",
        "\n",
        "# Calculate accuracy\n",
        "accuracy = accuracy_score(y_test, predictions)\n",
        "print(f\"Accuracy: {accuracy * 100:.2f}%\")"
      ]
    },
    {
      "cell_type": "code",
      "execution_count": 7,
      "metadata": {
        "colab": {
          "base_uri": "https://localhost:8080/"
        },
        "id": "kyn-GbhQShUW",
        "outputId": "b3f8ccc1-46bb-46b8-f367-38b0eebdd443"
      },
      "outputs": [
        {
          "data": {
            "text/plain": [
              "array([5.7, 3.8, 1.7, 0.3])"
            ]
          },
          "execution_count": 7,
          "metadata": {},
          "output_type": "execute_result"
        }
      ],
      "source": [
        "X_test[1]"
      ]
    },
    {
      "cell_type": "code",
      "execution_count": 8,
      "metadata": {
        "colab": {
          "base_uri": "https://localhost:8080/"
        },
        "id": "rdCDGyw7EhkL",
        "outputId": "5151310c-e3e9-415b-d66e-187739fd7780"
      },
      "outputs": [
        {
          "name": "stdout",
          "output_type": "stream",
          "text": [
            "[1 0 2 1 1 0 1 2 1 1 2 0 0 0 0 1 2 1 1 2 0 2 0 2 2 2 2 2 0 0]\n",
            "Accuracy: 100.00%\n"
          ]
        }
      ],
      "source": [
        "# Initialize the kNN classifier\n",
        "k = 5\n",
        "knn_classifier = KNeighborsClassifier(n_neighbors=k)\n",
        "\n",
        "# Train the classifier on the training data\n",
        "knn_classifier.fit(X_train, y_train)\n",
        "\n",
        "# Make predictions on the test data\n",
        "y_pred = knn_classifier.predict(X_test)\n",
        "print(y_pred)\n",
        "\n",
        "# Calculate accuracy\n",
        "accuracy = accuracy_score(y_test, y_pred)\n",
        "print(f\"Accuracy: {accuracy * 100:.2f}%\")\n"
      ]
    },
    {
      "cell_type": "code",
      "execution_count": null,
      "metadata": {
        "id": "rNDGkepCF8BL"
      },
      "outputs": [],
      "source": []
    }
  ],
  "metadata": {
    "colab": {
      "provenance": []
    },
    "kernelspec": {
      "display_name": "Python 3",
      "name": "python3"
    },
    "language_info": {
      "codemirror_mode": {
        "name": "ipython",
        "version": 3
      },
      "file_extension": ".py",
      "mimetype": "text/x-python",
      "name": "python",
      "nbconvert_exporter": "python",
      "pygments_lexer": "ipython3",
      "version": "3.11.1"
    }
  },
  "nbformat": 4,
  "nbformat_minor": 0
}
