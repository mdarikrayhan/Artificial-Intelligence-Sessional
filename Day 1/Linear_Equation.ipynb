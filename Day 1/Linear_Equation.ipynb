{
  "cells": [
    {
      "cell_type": "code",
      "execution_count": 6,
      "metadata": {
        "colab": {
          "base_uri": "https://localhost:8080/"
        },
        "id": "HgGhtA1dMrOk",
        "outputId": "ed616731-cc2d-4969-97ff-65e040f67558"
      },
      "outputs": [
        {
          "name": "stdout",
          "output_type": "stream",
          "text": [
            "[1 2 3 4]\n",
            "[2 3 4 5]\n"
          ]
        }
      ],
      "source": [
        "import numpy as np\n",
        "X=np.array([1,2,3,4])\n",
        "Y=np.array([2,3,4,5])\n",
        "print(X)\n",
        "print(Y)"
      ]
    },
    {
      "cell_type": "code",
      "execution_count": 7,
      "metadata": {
        "colab": {
          "base_uri": "https://localhost:8080/"
        },
        "id": "vR-j8-M-U7Mx",
        "outputId": "91aa3ef9-479e-4f03-e8df-9db35439a97d"
      },
      "outputs": [
        {
          "name": "stdout",
          "output_type": "stream",
          "text": [
            "2.5\n",
            "3.5\n",
            "10.0\n",
            "7.5\n"
          ]
        }
      ],
      "source": [
        "xbar=np.mean(X)\n",
        "ybar=np.mean(Y)\n",
        "xybar=np.mean(X*Y)\n",
        "x2avg=np.mean(X**2)\n",
        "\n",
        "print(xbar)\n",
        "print(ybar)\n",
        "print(xybar)\n",
        "print(x2avg)"
      ]
    },
    {
      "cell_type": "code",
      "execution_count": 8,
      "metadata": {
        "colab": {
          "base_uri": "https://localhost:8080/"
        },
        "id": "Pm56oF-ZZ8Fg",
        "outputId": "1fc4c404-359e-4a88-fab3-44e77713f6ec"
      },
      "outputs": [
        {
          "name": "stdout",
          "output_type": "stream",
          "text": [
            "1.0\n"
          ]
        }
      ],
      "source": [
        "a1=(xybar-(xbar*ybar))/(x2avg-(xbar**2))\n",
        "print(a1)"
      ]
    },
    {
      "cell_type": "code",
      "execution_count": 9,
      "metadata": {
        "colab": {
          "base_uri": "https://localhost:8080/"
        },
        "id": "UUuSQ8NXaWZq",
        "outputId": "7ff2cb46-41fd-4d7f-8c63-484a6c5ccc4b"
      },
      "outputs": [
        {
          "name": "stdout",
          "output_type": "stream",
          "text": [
            "5.0\n"
          ]
        }
      ],
      "source": [
        "a0=ybar-a1*xbar\n",
        "x_new=int(input(\"Enter new value:\"))\n",
        "xybar=(a1*x_new)+a0\n",
        "\n",
        "print(xybar)"
      ]
    }
  ],
  "metadata": {
    "colab": {
      "provenance": []
    },
    "kernelspec": {
      "display_name": "Python 3",
      "name": "python3"
    },
    "language_info": {
      "codemirror_mode": {
        "name": "ipython",
        "version": 3
      },
      "file_extension": ".py",
      "mimetype": "text/x-python",
      "name": "python",
      "nbconvert_exporter": "python",
      "pygments_lexer": "ipython3",
      "version": "3.11.1"
    }
  },
  "nbformat": 4,
  "nbformat_minor": 0
}
