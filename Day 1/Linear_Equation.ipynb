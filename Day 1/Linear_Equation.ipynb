{
  "cells": [
    {
      "cell_type": "code",
      "execution_count": 1,
      "metadata": {
        "colab": {
          "base_uri": "https://localhost:8080/"
        },
        "id": "HgGhtA1dMrOk",
        "outputId": "ed616731-cc2d-4969-97ff-65e040f67558"
      },
      "outputs": [
        {
          "name": "stdout",
          "output_type": "stream",
          "text": [
            "[1 2 3 4]\n",
            "[2 3 4 5]\n"
          ]
        }
      ],
      "source": [
        "import numpy as np\n",
        "X=np.array([1,2,3,4])\n",
        "Y=np.array([2,3,4,5])\n",
        "print(X)\n",
        "print(Y)"
      ]
    },
    {
      "cell_type": "code",
      "execution_count": 2,
      "metadata": {
        "colab": {
          "base_uri": "https://localhost:8080/"
        },
        "id": "zNVDjsJkRZ8t",
        "outputId": "af294c8e-a11b-4e68-9490-c1b0fef03d8f"
      },
      "outputs": [
        {
          "name": "stdout",
          "output_type": "stream",
          "text": [
            "sum of X is: 1\n",
            "avg 0.25\n",
            "sum of X is: 3\n",
            "avg 0.75\n",
            "sum of X is: 6\n",
            "avg 1.5\n",
            "sum of X is: 10\n",
            "avg 2.5\n"
          ]
        }
      ],
      "source": [
        "sum=0\n",
        "for i in X:\n",
        "  sum=sum+i\n",
        "  print(\"sum of X is:\",sum)\n",
        "  avg=sum/4\n",
        "  print(\"avg\",avg)"
      ]
    },
    {
      "cell_type": "code",
      "execution_count": 3,
      "metadata": {
        "colab": {
          "base_uri": "https://localhost:8080/"
        },
        "id": "7uAe0-GRUK_c",
        "outputId": "7d37c596-360d-4f59-b0ab-78b70d3a429e"
      },
      "outputs": [
        {
          "name": "stdout",
          "output_type": "stream",
          "text": [
            "sum of Y is: 2\n",
            "Y_avg 0.5\n",
            "sum of Y is: 5\n",
            "Y_avg 1.25\n",
            "sum of Y is: 9\n",
            "Y_avg 2.25\n",
            "sum of Y is: 14\n",
            "Y_avg 3.5\n"
          ]
        }
      ],
      "source": [
        "sum=0\n",
        "for i in Y:\n",
        "  sum=sum+i\n",
        "  print(\"sum of Y is:\",sum)\n",
        "  avg=sum/4\n",
        "  print(\"Y_avg\",avg)"
      ]
    },
    {
      "cell_type": "code",
      "execution_count": 4,
      "metadata": {
        "colab": {
          "base_uri": "https://localhost:8080/"
        },
        "id": "vR-j8-M-U7Mx",
        "outputId": "91aa3ef9-479e-4f03-e8df-9db35439a97d"
      },
      "outputs": [
        {
          "name": "stdout",
          "output_type": "stream",
          "text": [
            "10.0\n"
          ]
        }
      ],
      "source": [
        "\n",
        "A= np.mean(X)\n",
        "B=np.mean(Y)\n",
        "M=np.mean(X*Y)\n",
        "\n",
        "print(M)"
      ]
    },
    {
      "cell_type": "code",
      "execution_count": 5,
      "metadata": {
        "colab": {
          "base_uri": "https://localhost:8080/"
        },
        "id": "7GezHNBGZ3G-",
        "outputId": "91246cce-0373-48e8-e1dc-5228be670fc5"
      },
      "outputs": [
        {
          "name": "stdout",
          "output_type": "stream",
          "text": [
            "7.5\n"
          ]
        }
      ],
      "source": [
        "N=np.mean(X**2)\n",
        "print(N)"
      ]
    },
    {
      "cell_type": "code",
      "execution_count": 6,
      "metadata": {
        "colab": {
          "base_uri": "https://localhost:8080/"
        },
        "id": "Pm56oF-ZZ8Fg",
        "outputId": "1fc4c404-359e-4a88-fab3-44e77713f6ec"
      },
      "outputs": [
        {
          "name": "stdout",
          "output_type": "stream",
          "text": [
            "1.0\n"
          ]
        }
      ],
      "source": [
        "m=(M-(A*B))/(N-(A**2))\n",
        "print(m)"
      ]
    },
    {
      "cell_type": "code",
      "execution_count": 7,
      "metadata": {
        "colab": {
          "base_uri": "https://localhost:8080/"
        },
        "id": "UUuSQ8NXaWZq",
        "outputId": "7ff2cb46-41fd-4d7f-8c63-484a6c5ccc4b"
      },
      "outputs": [
        {
          "name": "stdout",
          "output_type": "stream",
          "text": [
            "8.0\n"
          ]
        }
      ],
      "source": [
        "c=B-m*A\n",
        "x_new=int(input(\"Enter new value:\"))\n",
        "M=(m*x_new)+c\n",
        "\n",
        "print(M)"
      ]
    },
    {
      "cell_type": "code",
      "execution_count": null,
      "metadata": {
        "id": "GG04kM_ub16h"
      },
      "outputs": [],
      "source": []
    }
  ],
  "metadata": {
    "colab": {
      "provenance": []
    },
    "kernelspec": {
      "display_name": "Python 3",
      "name": "python3"
    },
    "language_info": {
      "codemirror_mode": {
        "name": "ipython",
        "version": 3
      },
      "file_extension": ".py",
      "mimetype": "text/x-python",
      "name": "python",
      "nbconvert_exporter": "python",
      "pygments_lexer": "ipython3",
      "version": "3.11.1"
    }
  },
  "nbformat": 4,
  "nbformat_minor": 0
}
