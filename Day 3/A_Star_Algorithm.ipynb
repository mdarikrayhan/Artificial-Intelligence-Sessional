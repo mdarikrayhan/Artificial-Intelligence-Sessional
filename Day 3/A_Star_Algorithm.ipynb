{
 "cells": [
  {
   "cell_type": "code",
   "execution_count": 2,
   "metadata": {},
   "outputs": [],
   "source": [
    "#All possible path problem for romanian cities \n",
    "GRAPH = {\n",
    "            'Arad': {'Sibiu': 140, 'Zerind': 75, 'Timisoara': 118},\n",
    "            'Zerind': {'Arad': 75, 'Oradea': 71},\n",
    "            'Oradea': {'Zerind': 71, 'Sibiu': 151},\n",
    "            'Sibiu': {'Arad': 140, 'Oradea': 151, 'Fagaras': 99, 'Rimnicu': 80},\n",
    "            'Timisoara': {'Arad': 118, 'Lugoj': 111},\n",
    "            'Lugoj': {'Timisoara': 111, 'Mehadia': 70},\n",
    "            'Mehadia': {'Lugoj': 70, 'Drobeta': 75},\n",
    "            'Drobeta': {'Mehadia': 75, 'Craiova': 120},\n",
    "            'Craiova': {'Drobeta': 120, 'Rimnicu': 146, 'Pitesti': 138},\n",
    "            'Rimnicu': {'Sibiu': 80, 'Craiova': 146, 'Pitesti': 97},\n",
    "            'Fagaras': {'Sibiu': 99, 'Bucharest': 211},\n",
    "            'Pitesti': {'Rimnicu': 97, 'Craiova': 138, 'Bucharest': 101},\n",
    "            'Bucharest': {'Fagaras': 211, 'Pitesti': 101, 'Giurgiu': 90, 'Urziceni': 85},\n",
    "            'Giurgiu': {'Bucharest': 90},\n",
    "            'Urziceni': {'Bucharest': 85, 'Vaslui': 142, 'Hirsova': 98},\n",
    "            'Hirsova': {'Urziceni': 98, 'Eforie': 86},\n",
    "            'Eforie': {'Hirsova': 86},\n",
    "            'Vaslui': {'Iasi': 92, 'Urziceni': 142},\n",
    "            'Iasi': {'Vaslui': 92, 'Neamt': 87},\n",
    "            'Neamt': {'Iasi': 87}\n",
    "        }"
   ]
  },
  {
   "cell_type": "code",
   "execution_count": 1,
   "metadata": {},
   "outputs": [],
   "source": [
    "# HERE THE STRAIGHT LINE DISTANCE VALUES ARE IN REFERENCE TO BUCHAREST AS THE DESTINATION\n",
    "huristic = {\n",
    "            'Arad': 366,\n",
    "            'Zerind': 374,\n",
    "            'Oradea': 380,\n",
    "            'Sibiu': 253,\n",
    "            'Timisoara': 329,\n",
    "            'Lugoj': 244,\n",
    "            'Mehadia': 241,\n",
    "            'Drobeta': 242,\n",
    "            'Craiova': 160,\n",
    "            'Rimnicu': 193,\n",
    "            'Fagaras': 176,\n",
    "            'Pitesti': 100,\n",
    "            'Bucharest': 0,\n",
    "            'Giurgiu': 77,\n",
    "            'Urziceni': 80,\n",
    "            'Hirsova': 151,\n",
    "            'Eforie': 161,\n",
    "            'Vaslui': 199,\n",
    "            'Iasi': 226,\n",
    "            'Neamt': 234\n",
    "            }"
   ]
  },
  {
   "cell_type": "code",
   "execution_count": 22,
   "metadata": {},
   "outputs": [],
   "source": [
    "def a_star(source, destination):\n",
    "    from queue import PriorityQueue\n",
    "    priority_queue = PriorityQueue() \n",
    "    visited={}\n",
    "    priority_queue.put((huristic[source], 0, source, [source]))\n",
    "    visited[source] = huristic[source]\n",
    "    while not priority_queue.empty():\n",
    "        (heuristic, cost, vertex, path) = priority_queue.get()\n",
    "        if vertex == destination:\n",
    "            return heuristic, cost, path\n",
    "        for next_node in GRAPH[vertex].keys():\n",
    "            current_cost = cost + GRAPH[vertex][next_node]\n",
    "            heuristic = current_cost + huristic[next_node]\n",
    "            if not next_node in visited or visited[next_node] >= heuristic:\n",
    "                visited[next_node] = heuristic\n",
    "                priority_queue.put((heuristic, current_cost, next_node, path + [next_node]))\n"
   ]
  },
  {
   "cell_type": "code",
   "execution_count": 23,
   "metadata": {},
   "outputs": [
    {
     "name": "stdout",
     "output_type": "stream",
     "text": [
      "HEURISTIC = 418\n",
      "PATH COST = 418\n",
      "Arad -> Sibiu -> Rimnicu -> Pitesti -> Bucharest\n"
     ]
    }
   ],
   "source": [
    "source = 'Arad'\n",
    "goal = 'Bucharest'\n",
    "heuristic, cost, optimal_path = a_star(source, goal)\n",
    "print('HEURISTIC =', heuristic)\n",
    "print('PATH COST =', cost)\n",
    "print(' -> '.join(city for city in optimal_path))"
   ]
  }
 ],
 "metadata": {
  "kernelspec": {
   "display_name": "Python 3",
   "language": "python",
   "name": "python3"
  },
  "language_info": {
   "codemirror_mode": {
    "name": "ipython",
    "version": 3
   },
   "file_extension": ".py",
   "mimetype": "text/x-python",
   "name": "python",
   "nbconvert_exporter": "python",
   "pygments_lexer": "ipython3",
   "version": "3.11.1"
  }
 },
 "nbformat": 4,
 "nbformat_minor": 2
}
