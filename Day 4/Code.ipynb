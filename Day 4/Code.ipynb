{
 "cells": [
  {
   "cell_type": "code",
   "execution_count": 1,
   "id": "577ed838",
   "metadata": {},
   "outputs": [
    {
     "name": "stdout",
     "output_type": "stream",
     "text": [
      "Centroids:\n",
      "[[1.25       1.5       ]\n",
      " [4.75       6.        ]\n",
      " [3.33333333 4.5       ]]\n",
      "Labels:\n",
      "[0 0 2 1 2 1 2]\n"
     ]
    }
   ],
   "source": [
    "import numpy as np\n",
    "\n",
    "def euclidean_distance(x1, x2):\n",
    "    return np.sqrt(np.sum((x1 - x2) ** 2))\n",
    "\n",
    "def kmeans(X, k, max_iters=100):\n",
    "    # Randomly initialize centroids\n",
    "    centroids = X[np.random.choice(range(len(X)), k, replace=False)]\n",
    "\n",
    "    for _ in range(max_iters):\n",
    "        # Assign each data point to the nearest centroid\n",
    "        labels = np.array([np.argmin([euclidean_distance(x, centroid) for centroid in centroids]) for x in X])\n",
    "        \n",
    "        # Update centroids\n",
    "        new_centroids = np.array([X[labels == i].mean(axis=0) for i in range(k)])\n",
    "        \n",
    "        # If centroids have converged, break\n",
    "        if np.allclose(centroids, new_centroids):\n",
    "            break\n",
    "        \n",
    "        centroids = new_centroids\n",
    "\n",
    "    return centroids, labels\n",
    "\n",
    "# Example usage:\n",
    "if __name__ == \"__main__\":\n",
    "    # Example data points\n",
    "    X = np.array([[1.0, 1.0], [1.5, 2.0], [3.0, 4.0], [5.0, 7.0], [3.5, 5.0], [4.5, 5.0],[3.5, 4.5]])\n",
    "    \n",
    "    # Number of clusters\n",
    "    k = 3\n",
    "    \n",
    "    # Running K-means clustering\n",
    "    centroids, labels = kmeans(X, k)\n",
    "    print(\"Centroids:\")\n",
    "    print(centroids)\n",
    "    print(\"Labels:\")\n",
    "    print(labels)"
   ]
  },
  {
   "cell_type": "code",
   "execution_count": null,
   "id": "22690e00",
   "metadata": {},
   "outputs": [],
   "source": []
  }
 ],
 "metadata": {
  "kernelspec": {
   "display_name": "Python 3 (ipykernel)",
   "language": "python",
   "name": "python3"
  },
  "language_info": {
   "codemirror_mode": {
    "name": "ipython",
    "version": 3
   },
   "file_extension": ".py",
   "mimetype": "text/x-python",
   "name": "python",
   "nbconvert_exporter": "python",
   "pygments_lexer": "ipython3",
   "version": "3.11.1"
  }
 },
 "nbformat": 4,
 "nbformat_minor": 5
}
